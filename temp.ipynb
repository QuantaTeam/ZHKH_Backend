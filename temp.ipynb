{
 "cells": [
  {
   "cell_type": "code",
   "execution_count": 1,
   "id": "0076ac6b-20a3-4d64-83b4-290cedb5ede1",
   "metadata": {},
   "outputs": [],
   "source": [
    "import os\n",
    "\n",
    "import sqlalchemy as sa\n",
    "from sqlalchemy import orm"
   ]
  },
  {
   "cell_type": "code",
   "execution_count": 2,
   "id": "28a7b1bf-520c-43f1-b424-5143cb7baec2",
   "metadata": {},
   "outputs": [],
   "source": [
    "pg_user = os.environ[\"POSTGRES_USER\"]\n",
    "pg_password = os.environ[\"POSTGRES_PASSWORD\"]\n",
    "pg_host = \"localhost\"\n",
    "pg_db = os.environ[\"POSTGRES_DB\"]\n",
    "engine = sa.create_engine(\n",
    "    f\"postgresql://{pg_user}:{pg_password}@{pg_host}:5432/{pg_db}\",\n",
    "    pool_pre_ping=True,\n",
    ")\n",
    "db = orm.sessionmaker(autocommit=False, autoflush=False, bind=engine)()"
   ]
  },
  {
   "cell_type": "code",
   "execution_count": 3,
   "id": "75bdb9b6-4a3b-4f64-a3be-4cddf5a31a7a",
   "metadata": {},
   "outputs": [
    {
     "data": {
      "text/plain": [
       "'5309140'"
      ]
     },
     "execution_count": 3,
     "metadata": {},
     "output_type": "execute_result"
    }
   ],
   "source": [
    "# with engine.connect() as connection:\n",
    "res = db.execute(sa.select(sa.text(\"* from application\")))\n",
    "res.mappings().all()[0][\"Корневой ИД заявки\"]"
   ]
  },
  {
   "cell_type": "code",
   "execution_count": 5,
   "id": "a8c0f49b-4e0b-4b55-aaca-1bec9c96e1be",
   "metadata": {},
   "outputs": [
    {
     "data": {
      "text/plain": [
       "9"
      ]
     },
     "execution_count": 5,
     "metadata": {},
     "output_type": "execute_result"
    }
   ],
   "source": [
    "defect_category_name = \"Уборка\"\n",
    "type_of_work_performed = \"Засор устранен\"\n",
    "district_code = \"508.0\"\n",
    "\n",
    "\n",
    "def apply_where_filters(\n",
    "    statement: sa.sql.selectable.Select, filters: dict[str, str]\n",
    ") -> sa.sql.selectable.Select:\n",
    "    parameter_count = 0\n",
    "    for column, parameter_value in filters.items():\n",
    "        parameter_count += 1\n",
    "        parameter_name = f\"user_param_{str(parameter_count)}\"\n",
    "        if parameter_value:\n",
    "            statement = statement.where(\n",
    "                sa.text(f'\"{column}\" = :{parameter_name}').bindparams(\n",
    "                    sa.bindparam(parameter_name, value=parameter_value, type_=sa.String)\n",
    "                )\n",
    "            )\n",
    "    return statement\n",
    "\n",
    "\n",
    "filters = {\n",
    "    \"Наименование категории дефекта\": defect_category_name,\n",
    "    \"Вид выполненных работ\": type_of_work_performed,\n",
    "    \"Код района\": district_code,\n",
    "}\n",
    "statement = sa.select(sa.text(\"* from application\"))\n",
    "statement_count = sa.select(sa.text(\"count(*) from application\"))\n",
    "statement = apply_where_filters(statement, filters)\n",
    "statement_count = apply_where_filters(statement_count, filters)\n",
    "statement = statement.limit(10).offset(0)\n",
    "\n",
    "res_raw = db.execute(statement)\n",
    "res = res_raw.mappings().all()\n",
    "res_count_raw = db.execute(statement_count)\n",
    "res_count = res_count_raw.scalar_one()\n",
    "res_count"
   ]
  },
  {
   "cell_type": "code",
   "execution_count": null,
   "id": "30834064-9cea-493f-8e7e-bbea99b3b309",
   "metadata": {},
   "outputs": [],
   "source": []
  }
 ],
 "metadata": {
  "kernelspec": {
   "display_name": "Python 3 (ipykernel)",
   "language": "python",
   "name": "python3"
  },
  "language_info": {
   "codemirror_mode": {
    "name": "ipython",
    "version": 3
   },
   "file_extension": ".py",
   "mimetype": "text/x-python",
   "name": "python",
   "nbconvert_exporter": "python",
   "pygments_lexer": "ipython3",
   "version": "3.10.8"
  }
 },
 "nbformat": 4,
 "nbformat_minor": 5
}
